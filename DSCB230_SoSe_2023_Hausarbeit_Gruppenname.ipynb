{
 "cells": [
  {
   "cell_type": "markdown",
   "id": "48b3f54c-3ed1-407e-ab25-5fbf84acdc1b",
   "metadata": {},
   "source": [
    "__DSCB230 Sommersemster 2023__\n",
    "# Hausarbeit - Datenauswertung am Beispiel eines Business-Anwendungsfalls"
   ]
  },
  {
   "cell_type": "markdown",
   "id": "d486d432-bd92-485e-8f25-9d6f19208480",
   "metadata": {},
   "source": [
    "## Lernziele\n",
    "1. Einblick in die Arbeitsweise agiler Projekte\n",
    "2. Erfahrungen in der arbeitsteiligen Gruppenarbeit\n",
    "3. Erheben und Realisieren von Anforderungen\n",
    "4. Durchführen einer Datenauswertung\n",
    "5. Präsentieren der Ergebnisse mit anschließendem fachlichen Gedankenaustausch (Kolloquium)"
   ]
  },
  {
   "cell_type": "markdown",
   "id": "28da700c-e714-447a-933a-1c67c1e4d169",
   "metadata": {},
   "source": [
    "## Lehrinhalte\n",
    "1. Business Case finden\n",
    "2. Datenerfassung und Data Engineering\n",
    "3. Datenmodellierung\n",
    "4. Datenvisualisierung"
   ]
  },
  {
   "cell_type": "markdown",
   "id": "68929315-1123-471b-80ac-55dbe38d4575",
   "metadata": {},
   "source": [
    "## Ablauf\n",
    "- [Gruppeneinteilung](https://bwsyncandshare.kit.edu/s/iERjpikwf9MK3fR)\n",
    "- Kick-off\n",
    "- Statusmeetings 1-4\n",
    "- Präsentation, Lessons Learned, Abgabe in ILIAS"
   ]
  },
  {
   "cell_type": "markdown",
   "id": "08a5d9d6-5ea3-4534-ac7f-418ca3dbbf6e",
   "metadata": {},
   "source": [
    "### Kick-off (Projekt-Start)\n",
    "\n",
    "Ziele: Lernziele besprechen. Erwartungen klarstellen. Durchführung besprechen."
   ]
  },
  {
   "cell_type": "markdown",
   "id": "99ac9d8d-cd6f-4e4e-aaf7-3c7bc5d5dd38",
   "metadata": {},
   "source": [
    "### Statusmeetings (Sprint-Reviews)\n",
    "\n",
    "Ziel: Es geht hauptsächlich um die Art und Weise der Zusammenarbeit, um Herausforderungen und Verbesserungsmöglichkeiten.\n",
    "\n",
    "__Leitfragen:__\n",
    "- Dinge, die gut gelungen sind.\n",
    "- Dinge, die weniger gut gelaufen sind.\n",
    "- Dinge, die man direkt stoppen sollte.\n",
    "- Aspekte, die man ausprobieren könnte."
   ]
  },
  {
   "cell_type": "markdown",
   "id": "0ddc70c6-3c59-425f-8263-79ca535a1962",
   "metadata": {},
   "source": [
    "### Lessons Learned (Projekt-Review)\n",
    "\n",
    "Ziele: Gewonnene Erkenntnisse für die Beurteilung der Arbeitsergebnisse festhalten.\n",
    "\n",
    "Vorbereitung: Die Gruppe setzt sich zusammen, um wertvolle Erfahrungen zu identifizieren, sie zu analysieren und aus ihnen zu lernen.\n",
    "\n",
    "__Leitfragen:__\n",
    "- Was waren die angenehmsten Dinge?\n",
    "- Welches Problem bzw. welche Probleme sind aufgetreten?\n",
    "- Wie wurde mit Problemen und Unklarheiten umgegangen?\n",
    "- Welche Lösung wurde verwendet?\n",
    "- Welche Probleme konnten, nach eigenem Ermessen, besonders gut gelöst werden?\n",
    "- Welche Ergebnisse der Datenauswertung waren überraschend?\n",
    "- Welche Erkenntnisse konnten durch die Datenauswertung gewonnen werden?\n",
    "- Welche ihrer Erwartungen an die Erkenntnisse der Datenauswertung weichen ab?\n",
    "- Wie bewerten Sie selbst ihre Ergebnisse?\n",
    "- Welche Erwartung an die Hausarbeit wurde nicht erfüllt?"
   ]
  },
  {
   "cell_type": "markdown",
   "id": "a0786cf7-b241-4f10-a7af-08eb0a07b7f7",
   "metadata": {},
   "source": [
    "## Aufgabenstellung\n",
    "\n",
    "- Führen Sie eine Datenauswertung durch.\n",
    "- Orientieren Sie sich an den Beispielen und den Übungen aus der Vorlesung.\n",
    "- Dokumentieren Sie Ihre Arbeit in diesem Jupter Notebook. Abweichungen in andere Tools oder Anwendungen sind in Absprache mit dem Dozent möglich.\n",
    "- Verwenden Sie die [Markdown](https://www.markdownguide.org/cheat-sheet/)-Syntax, um Ihre Arbeit leserlich zu gestalten."
   ]
  },
  {
   "cell_type": "markdown",
   "id": "54d1fd8f-461e-4d1a-bcee-c81d92ed488e",
   "metadata": {},
   "source": [
    "## Abschlusspräsentation\n",
    "\n",
    "- Termine, siehe [Gruppeneinteilung](https://bwsyncandshare.kit.edu/s/iERjpikwf9MK3fR)\n",
    "- Dauer ca. 15 min\n",
    "- Ablauf:\n",
    "    - Gruppe präsentiert ihre Datenauswertung im Plenum\n",
    "    - Mündliche Wiedergabe der __vorbereiteten__ Lessons Learned\n",
    "    - Upload aller Dokumete in ILIAS als Zip-Archiv  `DSCB230_SoSe_2023_Gruppenname.zip`\n"
   ]
  },
  {
   "cell_type": "markdown",
   "id": "17e6b63f-2f04-4b47-bd44-dd5ea2832fd8",
   "metadata": {},
   "source": [
    "## Bewertung\n",
    "\n",
    "Maximal 9 Punkte (10% der Klausurpunkte) als Startwert für die Klausur. Die Punkte erhalten alle Gruppenmitglieder. Sollte eine differenzierte Bewertung gewünscht sein, sprechen Sie bitte den Dozent an."
   ]
  },
  {
   "cell_type": "markdown",
   "id": "aaec91a7-5b05-44c0-98f0-7f73a9461f89",
   "metadata": {},
   "source": [
    "## Titel des Themas\n",
    "Untertitel"
   ]
  },
  {
   "cell_type": "markdown",
   "id": "69b205aa-24e5-4d1a-a410-9cebab4c0844",
   "metadata": {},
   "source": [
    "Gruppe | Studierende 1 | Studierende 2 | Studierende 3 |\n",
    "------ | ------ | ------ | ------ |\n",
    "`Gruppenname` | `Vorname Name` | `Vorname Name` | `Vorname Name` |"
   ]
  },
  {
   "cell_type": "markdown",
   "id": "1f379b61-3b1f-469a-a873-5021229aa033",
   "metadata": {},
   "source": [
    "### Business Case"
   ]
  },
  {
   "cell_type": "markdown",
   "id": "903810eb-3de1-4efc-8167-1dfe6584e5ac",
   "metadata": {},
   "source": []
  },
  {
   "cell_type": "markdown",
   "id": "ec75d1c5-3c7b-4488-8db6-c003a3cde4ed",
   "metadata": {},
   "source": [
    "### Datenerfassung und Data Engineering"
   ]
  },
  {
   "cell_type": "markdown",
   "id": "72f4f0fd-519c-4a2d-a6f8-fd99d9e012e7",
   "metadata": {},
   "source": []
  },
  {
   "cell_type": "markdown",
   "id": "daade781-3ee5-43d2-8525-ad8d6c7dd808",
   "metadata": {},
   "source": [
    "### Datenmodellierung"
   ]
  },
  {
   "cell_type": "markdown",
   "id": "b7645e80-dc46-4786-b5b4-3d5e71b4c10e",
   "metadata": {},
   "source": []
  },
  {
   "cell_type": "markdown",
   "id": "1e772dce-8c8f-4abe-a6fc-387078a3af1e",
   "metadata": {},
   "source": [
    "### Datenvisualisierung"
   ]
  },
  {
   "cell_type": "markdown",
   "id": "741bd52d-6562-4a52-8e5b-01a38ee3ff57",
   "metadata": {},
   "source": []
  },
  {
   "cell_type": "markdown",
   "id": "2899c25b-ea8e-4a36-be86-b9dc9368f6b3",
   "metadata": {},
   "source": [
    "## Lessons Learned"
   ]
  },
  {
   "cell_type": "markdown",
   "id": "d837f8ba-d9a8-49ad-ac08-9193d186798f",
   "metadata": {},
   "source": []
  }
 ],
 "metadata": {
  "kernelspec": {
   "display_name": "Python 3 (ipykernel)",
   "language": "python",
   "name": "python3"
  },
  "language_info": {
   "codemirror_mode": {
    "name": "ipython",
    "version": 3
   },
   "file_extension": ".py",
   "mimetype": "text/x-python",
   "name": "python",
   "nbconvert_exporter": "python",
   "pygments_lexer": "ipython3",
   "version": "3.10.6"
  },
  "toc-autonumbering": false,
  "toc-showmarkdowntxt": false
 },
 "nbformat": 4,
 "nbformat_minor": 5
}
